{
  "cells": [
    {
      "cell_type": "markdown",
      "metadata": {
        "colab_type": "text",
        "id": "view-in-github"
      },
      "source": [
        "<a href=\"https://colab.research.google.com/github/louzeiro/coronaDash/blob/master/dash_predict.ipynb\" target=\"_parent\"><img src=\"https://colab.research.google.com/assets/colab-badge.svg\" alt=\"Open In Colab\"/></a>"
      ]
    },
    {
      "cell_type": "markdown",
      "metadata": {
        "id": "cYY6p51EtWoo"
      },
      "source": [
        "Dashboard Covid"
      ]
    },
    {
      "cell_type": "code",
      "execution_count": null,
      "metadata": {},
      "outputs": [
        {
          "ename": "",
          "evalue": "",
          "output_type": "error",
          "traceback": [
            "\u001b[1;31mRunning cells with 'newenv' requires the ipykernel package.\n",
            "\u001b[1;31mRun the following command to install 'ipykernel' into the Python environment. \n",
            "\u001b[1;31mCommand: '/home/fla/Documents/USP/PUB/2024/coronaDash/newenv/bin/python -m pip install ipykernel -U --force-reinstall'"
          ]
        }
      ],
      "source": [
        "import os\n",
        "os.system(\"pip install pyngrok\") #\n",
        "os.system(\"pip install django\")"
      ]
    },
    {
      "cell_type": "markdown",
      "metadata": {},
      "source": [
        "Criar conta e fazer logging em \n",
        "\n",
        "https://dashboard.ngrok.com/get-started/your-authtoken\n",
        "\n",
        "Copiar o código de autentificação\n",
        "\n",
        "<img src=\"img/auth.png\" alt=\"Código de autenticação\"/>"
      ]
    },
    {
      "cell_type": "code",
      "execution_count": null,
      "metadata": {},
      "outputs": [
        {
          "ename": "",
          "evalue": "",
          "output_type": "error",
          "traceback": [
            "\u001b[1;31mRunning cells with 'newenv' requires the ipykernel package.\n",
            "\u001b[1;31mRun the following command to install 'ipykernel' into the Python environment. \n",
            "\u001b[1;31mCommand: '/home/fla/Documents/USP/PUB/2024/coronaDash/newenv/bin/python -m pip install ipykernel -U --force-reinstall'"
          ]
        }
      ],
      "source": [
        "from pyngrok import ngrok\n",
        "auth_ = \"2djG8aqzMmHIAQJvXXVP01t0jCX_Tu9jdVj2EVWjZog6XfUB\"\n",
        "ngrok.set_auth_token(auth_)\n",
        "app = ngrok.connect(8000)"
      ]
    },
    {
      "cell_type": "code",
      "execution_count": null,
      "metadata": {
        "colab": {
          "base_uri": "https://localhost:8080/",
          "height": 347
        },
        "id": "fNfiv9eXyJeD",
        "outputId": "c1cee6eb-c393-437d-f40b-17e267f6dafc"
      },
      "outputs": [
        {
          "ename": "",
          "evalue": "",
          "output_type": "error",
          "traceback": [
            "\u001b[1;31mRunning cells with 'newenv' requires the ipykernel package.\n",
            "\u001b[1;31mRun the following command to install 'ipykernel' into the Python environment. \n",
            "\u001b[1;31mCommand: '/home/fla/Documents/USP/PUB/2024/coronaDash/newenv/bin/python -m pip install ipykernel -U --force-reinstall'"
          ]
        }
      ],
      "source": [
        "import django\n",
        "print(\"Olá companheiro, o Django foi instalado com sucesso, você está trabalhando com a versão\", django.get_version())\n",
        "print(\"Agora iremos copiar o projeto para o diretório raiz do ambiente de desenvolvimento\")\n",
        "\n",
        "# configurando o acesso à aplicação\n",
        "os.system('git clone https://github.com/louzeiro/coronaDash.git')\n",
        "\n",
        "os.system('sed -i s/app_url/'+app.public_url.replace('https://', '')+'/ /content/coronaDash/coronaDash/settings.py')\n",
        "\n",
        "#\n",
        "os.system(\"cd /content/coronaDash/\")\n",
        "print(\"Por fim, a aplicação 'subiu' e está na porta 8000 do http. Acesse-a no link a seguir\")\n",
        "\n",
        "print(app.public_url)\n",
        "\n",
        "!python /content/coronaDash/manage.py runserver 8000"
      ]
    }
  ],
  "metadata": {
    "colab": {
      "authorship_tag": "ABX9TyN6MPQp7i8JQ5gQ64959zNf",
      "collapsed_sections": [],
      "include_colab_link": true,
      "name": "dash-predict.ipynb",
      "provenance": []
    },
    "kernelspec": {
      "display_name": "Python 3",
      "name": "python3"
    },
    "language_info": {
      "name": "python",
      "version": "3.10.12"
    }
  },
  "nbformat": 4,
  "nbformat_minor": 0
}
