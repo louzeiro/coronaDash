{
  "cells": [
    {
      "cell_type": "markdown",
      "metadata": {
        "id": "view-in-github",
        "colab_type": "text"
      },
      "source": [
        "<a href=\"https://colab.research.google.com/github/louzeiro/coronaDash/blob/master/dash_predict.ipynb\" target=\"_parent\"><img src=\"https://colab.research.google.com/assets/colab-badge.svg\" alt=\"Open In Colab\"/></a>"
      ]
    },
    {
      "cell_type": "markdown",
      "source": [
        "Dashboard Covid"
      ],
      "metadata": {
        "id": "cYY6p51EtWoo"
      }
    },
    {
      "cell_type": "code",
      "execution_count": 7,
      "metadata": {
        "colab": {
          "base_uri": "https://localhost:8080/",
          "height": 347
        },
        "id": "fNfiv9eXyJeD",
        "outputId": "c1cee6eb-c393-437d-f40b-17e267f6dafc"
      },
      "outputs": [
        {
          "output_type": "stream",
          "name": "stdout",
          "text": [
            "Olá companheiro, o Django foi instalado com sucesso, você está trabalhando com a versão 3.2.13\n",
            "Agora iremos copiar o projeto para o diretório raiz do ambiente de desenvolvimento\n",
            "Por fim, a aplicação 'subiu' e está na porta 8000 do http. Acesse-a no link a seguir\n",
            "https://kibbrdgbyrg-496ff2e9c6d22116-8000-colab.googleusercontent.com/\n",
            "Watching for file changes with StatReloader\n",
            "Performing system checks...\n",
            "\n",
            "System check identified no issues (0 silenced).\n",
            "\u001b[31m\n",
            "You have 18 unapplied migration(s). Your project may not work properly until you apply the migrations for app(s): admin, auth, contenttypes, sessions.\u001b[0m\n",
            "\u001b[31mRun 'python manage.py migrate' to apply them.\u001b[0m\n",
            "April 18, 2022 - 17:38:59\n",
            "Django version 3.2.13, using settings 'coronaDash.settings'\n",
            "Starting development server at http://127.0.0.1:8000/\n",
            "Quit the server with CONTROL-C.\n",
            "164\n",
            "[18/Apr/2022 17:39:03] \u001b[m\"GET / HTTP/1.1\" 200 246167\u001b[0m\n",
            "Not Found: /favicon.ico\n",
            "[18/Apr/2022 17:39:04] \u001b[33m\"GET /favicon.ico HTTP/1.1\" 404 2375\u001b[0m\n"
          ]
        }
      ],
      "source": [
        "import os\n",
        "\n",
        "instalacao = os.system(\"pip install django\")\n",
        "if instalacao==0:\n",
        "  import django\n",
        "  print(\"Olá companheiro, o Django foi instalado com sucesso, você está trabalhando com a versão\", django.get_version())\n",
        "  print(\"Agora iremos copiar o projeto para o diretório raiz do ambiente de desenvolvimento\")\n",
        "\n",
        "  os.system('git clone https://github.com/louzeiro/coronaDash.git')\n",
        "  \n",
        "  os.system(\"cd /content/coronaDash/\")\n",
        "  print(\"Por fim, a aplicação 'subiu' e está na porta 8000 do http. Acesse-a no link a seguir\")\n",
        "  from google.colab.output import eval_js\n",
        "  print(eval_js(\"google.colab.kernel.proxyPort(8000)\"))\n",
        "  \n",
        "  !python /content/coronaDash/manage.py runserver 8000"
      ]
    }
  ],
  "metadata": {
    "colab": {
      "collapsed_sections": [],
      "name": "dash-predict.ipynb",
      "provenance": [],
      "authorship_tag": "ABX9TyN6MPQp7i8JQ5gQ64959zNf",
      "include_colab_link": true
    },
    "kernelspec": {
      "display_name": "Python 3",
      "name": "python3"
    },
    "language_info": {
      "name": "python"
    }
  },
  "nbformat": 4,
  "nbformat_minor": 0
}
