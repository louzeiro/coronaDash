{
  "cells": [
    {
      "cell_type": "markdown",
      "metadata": {
        "colab_type": "text",
        "id": "view-in-github"
      },
      "source": [
        "<a href=\"https://colab.research.google.com/github/louzeiro/coronaDash/blob/master/dash_predict.ipynb\" target=\"_parent\"><img src=\"https://colab.research.google.com/assets/colab-badge.svg\" alt=\"Open In Colab\"/></a>"
      ]
    },
    {
      "cell_type": "markdown",
      "metadata": {
        "id": "cYY6p51EtWoo"
      },
      "source": [
        "Dashboard Covid"
      ]
    },
    {
      "cell_type": "code",
      "execution_count": null,
      "metadata": {},
      "outputs": [],
      "source": [
        "import os\n",
        "os.system(\"pip install pyngrok\") #\n",
        "os.system(\"pip install django\")"
      ]
    },
    {
      "cell_type": "code",
      "execution_count": null,
      "metadata": {},
      "outputs": [],
      "source": [
        "from pyngrok import ngrok\n",
        "auth_ = \"2djG8aqzMmHIAQJvXXVP01t0jCX_Tu9jdVj2EVWjZog6XfUB\"\n",
        "ngrok.set_auth_token(auth_)\n",
        "app = ngrok.connect(8000)"
      ]
    },
    {
      "cell_type": "code",
      "execution_count": null,
      "metadata": {
        "colab": {
          "base_uri": "https://localhost:8080/",
          "height": 347
        },
        "id": "fNfiv9eXyJeD",
        "outputId": "c1cee6eb-c393-437d-f40b-17e267f6dafc"
      },
      "outputs": [],
      "source": [
        "import django\n",
        "\n",
        "if os.path.exists('/content/coronaDash'):\n",
        "  os.system(\"rm -r /content/coronaDash\")\n",
        "  \n",
        "# configurando o acesso à aplicação\n",
        "os.system('git clone https://github.com/louzeiro/coronaDash.git')\n",
        "\n",
        "os.system('sed -i s/app_url/'+app.public_url.replace('https://', '')+'/ /content/coronaDash/coronaDash/settings.py')\n",
        "\n",
        "#\n",
        "os.system(\"cd /content/coronaDash/\")\n",
        "print(\"Acesse o relatório no link a seguir\")\n",
        "\n",
        "print(app.public_url)\n",
        "\n",
        "os.system(\"python /content/coronaDash/manage.py runserver 8000\")"
      ]
    }
  ],
  "metadata": {
    "colab": {
      "authorship_tag": "ABX9TyN6MPQp7i8JQ5gQ64959zNf",
      "collapsed_sections": [],
      "include_colab_link": true,
      "name": "dash-predict.ipynb",
      "provenance": []
    },
    "kernelspec": {
      "display_name": "Python 3",
      "name": "python3"
    },
    "language_info": {
      "name": "python",
      "version": "3.10.12"
    }
  },
  "nbformat": 4,
  "nbformat_minor": 0
}
